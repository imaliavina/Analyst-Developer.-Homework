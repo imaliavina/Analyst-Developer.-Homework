{
 "cells": [
  {
   "cell_type": "code",
   "execution_count": 1,
   "metadata": {},
   "outputs": [],
   "source": [
    "from sympy import *\n",
    "init_printing()"
   ]
  },
  {
   "cell_type": "code",
   "execution_count": 2,
   "metadata": {},
   "outputs": [],
   "source": [
    "x=Symbol('x')"
   ]
  },
  {
   "cell_type": "code",
   "execution_count": 34,
   "metadata": {},
   "outputs": [
    {
     "data": {
      "image/png": "[encoded data removed]",
      "text/latex": [
       "$$x^{2} - 4 x + 4$$"
      ],
      "text/plain": [
       " 2          \n",
       "x  - 4⋅x + 4"
      ]
     },
     "execution_count": 34,
     "metadata": {},
     "output_type": "execute_result"
    }
   ],
   "source": [
    "g = x**2 - 4*x + 4\n",
    "g"
   ]
  },
  {
   "cell_type": "code",
   "execution_count": 35,
   "metadata": {},
   "outputs": [
    {
     "data": {
      "image/png": "[encoded data removed]",
      "text/latex": [
       "$$\\left [ 2\\right ]$$"
      ],
      "text/plain": [
       "[2]"
      ]
     },
     "execution_count": 35,
     "metadata": {},
     "output_type": "execute_result"
    }
   ],
   "source": [
    "solve(g, x)"
   ]
  },
  {
   "cell_type": "code",
   "execution_count": null,
   "metadata": {},
   "outputs": [],
   "source": []
  },
  {
   "cell_type": "code",
   "execution_count": null,
   "metadata": {},
   "outputs": [],
   "source": []
  },
  {
   "cell_type": "code",
   "execution_count": 3,
   "metadata": {},
   "outputs": [
    {
     "data": {
      "image/png": "[encoded data removed]",
      "text/latex": [
       "$$x^{3} - 6 x^{2} + 4 x + 12$$"
      ],
      "text/plain": [
       " 3      2           \n",
       "x  - 6⋅x  + 4⋅x + 12"
      ]
     },
     "execution_count": 3,
     "metadata": {},
     "output_type": "execute_result"
    }
   ],
   "source": [
    "f = x**3 - 6*x**2 + 4*x + 12\n",
    "f"
   ]
  },
  {
   "cell_type": "markdown",
   "metadata": {},
   "source": [
    "Корни уравнения:"
   ]
  },
  {
   "cell_type": "code",
   "execution_count": 4,
   "metadata": {},
   "outputs": [
    {
     "data": {
      "image/png": "[encoded data removed]",
      "text/latex": [
       "$$\\left [ 2 - \\frac{8}{\\left(- \\frac{1}{2} - \\frac{\\sqrt{3} i}{2}\\right) \\sqrt[3]{54 + 6 \\sqrt{303} i}} - \\frac{\\left(- \\frac{1}{2} - \\frac{\\sqrt{3} i}{2}\\right) \\sqrt[3]{54 + 6 \\sqrt{303} i}}{3}, \\quad 2 - \\frac{\\left(- \\frac{1}{2} + \\frac{\\sqrt{3} i}{2}\\right) \\sqrt[3]{54 + 6 \\sqrt{303} i}}{3} - \\frac{8}{\\left(- \\frac{1}{2} + \\frac{\\sqrt{3} i}{2}\\right) \\sqrt[3]{54 + 6 \\sqrt{303} i}}, \\quad 2 - \\frac{\\sqrt[3]{54 + 6 \\sqrt{303} i}}{3} - \\frac{8}{\\sqrt[3]{54 + 6 \\sqrt{303} i}}\\right ]$$"
      ],
      "text/plain": [
       "⎡                                     ⎛  1   √3⋅ⅈ⎞ 3 _______________      ⎛  1\n",
       "⎢                                     ⎜- ─ - ────⎟⋅╲╱ 54 + 6⋅√303⋅ⅈ       ⎜- ─\n",
       "⎢                  8                  ⎝  2    2  ⎠                        ⎝  2\n",
       "⎢2 - ────────────────────────────── - ──────────────────────────────, 2 - ────\n",
       "⎢    ⎛  1   √3⋅ⅈ⎞ 3 _______________                 3                         \n",
       "⎢    ⎜- ─ - ────⎟⋅╲╱ 54 + 6⋅√303⋅ⅈ                                            \n",
       "⎣    ⎝  2    2  ⎠                                                             \n",
       "\n",
       "   √3⋅ⅈ⎞ 3 _______________                                                    \n",
       " + ────⎟⋅╲╱ 54 + 6⋅√303⋅ⅈ                                        3 ___________\n",
       "    2  ⎠                                   8                     ╲╱ 54 + 6⋅√30\n",
       "────────────────────────── - ──────────────────────────────, 2 - ─────────────\n",
       "          3                  ⎛  1   √3⋅ⅈ⎞ 3 _______________              3    \n",
       "                             ⎜- ─ + ────⎟⋅╲╱ 54 + 6⋅√303⋅ⅈ                    \n",
       "                             ⎝  2    2  ⎠                                     \n",
       "\n",
       "                        ⎤\n",
       "____                    ⎥\n",
       "3⋅ⅈ            8        ⎥\n",
       "──── - ─────────────────⎥\n",
       "       3 _______________⎥\n",
       "       ╲╱ 54 + 6⋅√303⋅ⅈ ⎥\n",
       "                        ⎦"
      ]
     },
     "execution_count": 4,
     "metadata": {},
     "output_type": "execute_result"
    }
   ],
   "source": [
    "solve(f, x)"
   ]
  },
  {
   "cell_type": "markdown",
   "metadata": {},
   "source": [
    "Производная:"
   ]
  },
  {
   "cell_type": "code",
   "execution_count": 5,
   "metadata": {},
   "outputs": [
    {
     "data": {
      "image/png": "[encoded data removed]",
      "text/latex": [
       "$$3 x^{2} - 12 x + 4$$"
      ],
      "text/plain": [
       "   2           \n",
       "3⋅x  - 12⋅x + 4"
      ]
     },
     "execution_count": 5,
     "metadata": {},
     "output_type": "execute_result"
    }
   ],
   "source": [
    "d = diff(f, x)\n",
    "d"
   ]
  },
  {
   "cell_type": "code",
   "execution_count": 6,
   "metadata": {},
   "outputs": [
    {
     "data": {
      "image/png": "[encoded data removed]",
      "text/latex": [
       "$$\\left ( - \\frac{2 \\sqrt{6}}{3} + 2, \\quad \\frac{2 \\sqrt{6}}{3} + 2\\right )$$"
      ],
      "text/plain": [
       "⎛  2⋅√6      2⋅√6    ⎞\n",
       "⎜- ──── + 2, ──── + 2⎟\n",
       "⎝   3         3      ⎠"
      ]
     },
     "execution_count": 6,
     "metadata": {},
     "output_type": "execute_result"
    }
   ],
   "source": [
    "с1, с2 = roots(d, x)\n",
    "с1, с2"
   ]
  },
  {
   "cell_type": "markdown",
   "metadata": {},
   "source": [
    "Функция возрастает на промежутках: ($-\\infty$; $-2*sqrt(6)/3 + 2$) $\\cup$ ($2*sqrt(6)/3 + 2$; $+\\infty$)"
   ]
  },
  {
   "cell_type": "markdown",
   "metadata": {},
   "source": [
    "Функция убывает: $(-2*sqrt(6)/3 + 2, 2*sqrt(6)/3 + 2)$"
   ]
  },
  {
   "cell_type": "code",
   "execution_count": 7,
   "metadata": {},
   "outputs": [],
   "source": [
    "%matplotlib inline"
   ]
  },
  {
   "cell_type": "code",
   "execution_count": 8,
   "metadata": {},
   "outputs": [
    {
     "data": {
      "image/png": "[encoded data removed]",
      "text/plain": [
       "<Figure size 432x288 with 1 Axes>"
      ]
     },
     "metadata": {
      "needs_background": "light"
     },
     "output_type": "display_data"
    },
    {
     "data": {
      "text/plain": [
       "<sympy.plotting.plot.Plot at 0x22743c7a898>"
      ]
     },
     "execution_count": 8,
     "metadata": {},
     "output_type": "execute_result"
    }
   ],
   "source": [
    "plot(f,(x,-5,5))"
   ]
  },
  {
   "cell_type": "markdown",
   "metadata": {},
   "source": [
    "Вершина в данном случае - точка максимума:"
   ]
  },
  {
   "cell_type": "code",
   "execution_count": 9,
   "metadata": {},
   "outputs": [
    {
     "data": {
      "image/png": "[encoded data removed]",
      "text/latex": [
       "$$- \\frac{2 \\sqrt{6}}{3} + 2$$"
      ],
      "text/plain": [
       "  2⋅√6    \n",
       "- ──── + 2\n",
       "   3      "
      ]
     },
     "execution_count": 9,
     "metadata": {},
     "output_type": "execute_result"
    }
   ],
   "source": [
    "c1 = 2-2*sqrt(6)/3\n",
    "c1"
   ]
  },
  {
   "cell_type": "markdown",
   "metadata": {},
   "source": [
    "Найдем приближенное значение функции в этой точке:"
   ]
  },
  {
   "cell_type": "code",
   "execution_count": 32,
   "metadata": {},
   "outputs": [
    {
     "data": {
      "image/png": "[encoded data removed]",
      "text/latex": [
       "$$12.709$$"
      ],
      "text/plain": [
       "12.709"
      ]
     },
     "execution_count": 32,
     "metadata": {},
     "output_type": "execute_result"
    }
   ],
   "source": [
    "v = f.subs({x: c1})\n",
    "v.evalf(5)"
   ]
  },
  {
   "cell_type": "markdown",
   "metadata": {},
   "source": [
    "Найдем приближенные значения корней функции f:"
   ]
  },
  {
   "cell_type": "code",
   "execution_count": 15,
   "metadata": {},
   "outputs": [
    {
     "data": {
      "image/png": "[encoded data removed]",
      "text/latex": [
       "$$-1.05 + 6.0 \\cdot 10^{-11} i$$"
      ],
      "text/plain": [
       "-1.05 + 0.e-10⋅ⅈ"
      ]
     },
     "execution_count": 15,
     "metadata": {},
     "output_type": "execute_result"
    }
   ],
   "source": [
    "r1, r2, r3 = roots(f,x)\n",
    "r1.evalf(3)"
   ]
  },
  {
   "cell_type": "code",
   "execution_count": 16,
   "metadata": {},
   "outputs": [
    {
     "data": {
      "image/png": "[encoded data removed]",
      "text/latex": [
       "$$4.53 + 1.0 \\cdot 10^{-8} i$$"
      ],
      "text/plain": [
       "4.53 + 0.e-8⋅ⅈ"
      ]
     },
     "execution_count": 16,
     "metadata": {},
     "output_type": "execute_result"
    }
   ],
   "source": [
    "r2.evalf(3)"
   ]
  },
  {
   "cell_type": "code",
   "execution_count": 17,
   "metadata": {},
   "outputs": [
    {
     "data": {
      "image/png": "[encoded data removed]",
      "text/latex": [
       "$$2.52 + 1.0 \\cdot 10^{-8} i$$"
      ],
      "text/plain": [
       "2.52 + 0.e-8⋅ⅈ"
      ]
     },
     "execution_count": 17,
     "metadata": {},
     "output_type": "execute_result"
    }
   ],
   "source": [
    "r3.evalf(3)"
   ]
  },
  {
   "cell_type": "markdown",
   "metadata": {},
   "source": [
    "f > 0 на $(−1.05+6*i*10**(−11);   2.52+i*1.0*10**(−8))$"
   ]
  },
  {
   "cell_type": "markdown",
   "metadata": {},
   "source": [
    "Проверим значения корней с помощью модуля Polynomial библиотеки NumPy"
   ]
  },
  {
   "cell_type": "code",
   "execution_count": 21,
   "metadata": {},
   "outputs": [],
   "source": [
    "from numpy.polynomial import Polynomial as P"
   ]
  },
  {
   "cell_type": "code",
   "execution_count": 24,
   "metadata": {},
   "outputs": [],
   "source": [
    "p = P([1, -6, 4, 12])"
   ]
  },
  {
   "cell_type": "code",
   "execution_count": 26,
   "metadata": {},
   "outputs": [
    {
     "data": {
      "text/plain": [
       "array([-0.9511361 ,  0.22055239,  0.39725038])"
      ]
     },
     "execution_count": 26,
     "metadata": {},
     "output_type": "execute_result"
    }
   ],
   "source": [
    "roots = p.roots()\n",
    "roots"
   ]
  },
  {
   "cell_type": "code",
   "execution_count": 27,
   "metadata": {},
   "outputs": [
    {
     "data": {
      "image/png": "[encoded data removed]",
      "text/latex": [
       "$$0.2205523859605904$$"
      ],
      "text/plain": [
       "0.2205523859605904"
      ]
     },
     "execution_count": 27,
     "metadata": {},
     "output_type": "execute_result"
    }
   ],
   "source": [
    "roots[1]"
   ]
  }
 ],
 "metadata": {
  "kernelspec": {
   "display_name": "Python 3",
   "language": "python",
   "name": "python3"
  },
  "language_info": {
   "codemirror_mode": {
    "name": "ipython",
    "version": 3
   },
   "file_extension": ".py",
   "mimetype": "text/x-python",
   "name": "python",
   "nbconvert_exporter": "python",
   "pygments_lexer": "ipython3",
   "version": "3.7.2"
  }
 },
 "nbformat": 4,
 "nbformat_minor": 2
}
